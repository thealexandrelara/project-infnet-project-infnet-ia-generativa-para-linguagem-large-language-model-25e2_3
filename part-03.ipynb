{
 "cells": [
  {
   "cell_type": "markdown",
   "metadata": {},
   "source": [
    "# Instalação de dependências"
   ]
  },
  {
   "cell_type": "markdown",
   "metadata": {},
   "source": [
    "Neste projeto é usado algumas bibliotecas para poder realizar a extração e análise das entidades da categoria Mercado no primeiro trimestre de 2015 do Folha UOL News Dataset. Estas bibliotecas são listadas abaixo:"
   ]
  },
  {
   "cell_type": "code",
   "execution_count": 1,
   "metadata": {},
   "outputs": [
    {
     "name": "stdout",
     "output_type": "stream",
     "text": [
      "zsh:1: no matches found: transformers[torch]\n"
     ]
    }
   ],
   "source": [
    "!uv pip install -q transformers[torch]\n",
    "!uv pip install -q kaggle\n",
    "!uv pip install -q pandas\n",
    "!uv pip install -q tqdm\n",
    "!uv pip install -q seaborn\n",
    "!uv pip install -q matplotlib"
   ]
  },
  {
   "cell_type": "markdown",
   "metadata": {},
   "source": [
    "# Download do dataset"
   ]
  },
  {
   "cell_type": "markdown",
   "metadata": {},
   "source": [
    "Nesta etapa, é feita o download do dataset `https://www.kaggle.com/datasets/marlesson/news-of-the-site-folhauol`. Caso não deseje utilizar o Kaggle para fazer este download, pode-se fazer o download manualmente do arquivo .zip e salvar na raiz desse projeto para dar continuidade."
   ]
  },
  {
   "cell_type": "code",
   "execution_count": 2,
   "metadata": {},
   "outputs": [
    {
     "name": "stdout",
     "output_type": "stream",
     "text": [
      "Dataset URL: https://www.kaggle.com/datasets/marlesson/news-of-the-site-folhauol\n",
      "License(s): CC0-1.0\n",
      "Downloading news-of-the-site-folhauol.zip to /Users/alexandrelara/Documents/storage/c/code/project-infnet-ia-generativa-para-linguagem-large-language-model-25e2_3\n",
      "  0%|                                                | 0.00/187M [00:00<?, ?B/s]\n",
      "100%|████████████████████████████████████████| 187M/187M [00:00<00:00, 3.70GB/s]\n"
     ]
    }
   ],
   "source": [
    "!kaggle datasets download --force -d marlesson/news-of-the-site-folhauol"
   ]
  },
  {
   "cell_type": "markdown",
   "metadata": {},
   "source": [
    "# Importação de dependências"
   ]
  },
  {
   "cell_type": "code",
   "execution_count": 3,
   "metadata": {},
   "outputs": [],
   "source": [
    "import pandas as pd\n",
    "import matplotlib.pyplot as plt\n",
    "import seaborn as sns\n",
    "from tqdm.auto import tqdm\n",
    "from collections import Counter"
   ]
  },
  {
   "cell_type": "markdown",
   "metadata": {},
   "source": [
    "# Carregamento do dataset"
   ]
  },
  {
   "cell_type": "markdown",
   "metadata": {},
   "source": [
    "Nesta seção é realizado o carregamento do dataset em um Pandas dataframe."
   ]
  },
  {
   "cell_type": "code",
   "execution_count": 4,
   "metadata": {},
   "outputs": [],
   "source": [
    "def load_dataset(path: str) -> pd.DataFrame:\n",
    "    \"\"\"\n",
    "    Load the data from the path.\n",
    "    \"\"\"\n",
    "    return pd.read_csv(path)"
   ]
  },
  {
   "cell_type": "code",
   "execution_count": 5,
   "metadata": {},
   "outputs": [],
   "source": [
    "df = load_dataset(\"news-of-the-site-folhauol.zip\")"
   ]
  },
  {
   "cell_type": "markdown",
   "metadata": {},
   "source": [
    "# Filtragem do dataset"
   ]
  },
  {
   "cell_type": "markdown",
   "metadata": {},
   "source": [
    "O dataset precisa ser filtrado pelo primeiro trimestre de 2015 e pela categoria 'Mercado'."
   ]
  },
  {
   "cell_type": "code",
   "execution_count": 6,
   "metadata": {},
   "outputs": [],
   "source": [
    "def filter_news_by_date_and_category(df: pd.DataFrame, date_start: str, date_end: str, category: str) -> pd.DataFrame:\n",
    "    \"\"\"\n",
    "    Filter the news by date and category.\n",
    "    \"\"\"\n",
    "    df_with_converted_date = df.copy()\n",
    "    date_column_name = 'date'\n",
    "    category_column_name = 'category'\n",
    "    df_with_converted_date[date_column_name] = pd.to_datetime(df_with_converted_date[date_column_name])\n",
    "    filtered_df = df_with_converted_date[(df_with_converted_date[date_column_name] >= date_start) & (df_with_converted_date[date_column_name] <= date_end) & (df_with_converted_date[category_column_name] == category)]\n",
    "    return filtered_df.dropna(subset=['text'])"
   ]
  },
  {
   "cell_type": "code",
   "execution_count": 7,
   "metadata": {},
   "outputs": [
    {
     "name": "stdout",
     "output_type": "stream",
     "text": [
      "min   2015-01-01\n",
      "max   2015-03-31\n",
      "Name: date, dtype: datetime64[ns]\n",
      "----------------------------------------------------------------------------------------------------\n",
      "category\n",
      "mercado    2111\n",
      "Name: count, dtype: int64\n"
     ]
    }
   ],
   "source": [
    "filtered_df = filter_news_by_date_and_category(df, '2015-01-01', '2015-03-31', 'mercado')\n",
    "\n",
    "print(filtered_df['date'].agg(['min', 'max']))\n",
    "print('-' * 100)\n",
    "print(filtered_df['category'].value_counts())"
   ]
  },
  {
   "cell_type": "code",
   "execution_count": 8,
   "metadata": {},
   "outputs": [
    {
     "data": {
      "text/html": [
       "<div>\n",
       "<style scoped>\n",
       "    .dataframe tbody tr th:only-of-type {\n",
       "        vertical-align: middle;\n",
       "    }\n",
       "\n",
       "    .dataframe tbody tr th {\n",
       "        vertical-align: top;\n",
       "    }\n",
       "\n",
       "    .dataframe thead th {\n",
       "        text-align: right;\n",
       "    }\n",
       "</style>\n",
       "<table border=\"1\" class=\"dataframe\">\n",
       "  <thead>\n",
       "    <tr style=\"text-align: right;\">\n",
       "      <th></th>\n",
       "      <th>title</th>\n",
       "      <th>text</th>\n",
       "      <th>date</th>\n",
       "      <th>category</th>\n",
       "      <th>subcategory</th>\n",
       "      <th>link</th>\n",
       "    </tr>\n",
       "  </thead>\n",
       "  <tbody>\n",
       "    <tr>\n",
       "      <th>99055</th>\n",
       "      <td>Prioridade ao pós-pago reduz número de linhas ...</td>\n",
       "      <td>O mercado de telefonia celular perdeu 2,09 mil...</td>\n",
       "      <td>2015-03-12</td>\n",
       "      <td>mercado</td>\n",
       "      <td>NaN</td>\n",
       "      <td>http://www1.folha.uol.com.br/mercado/2015/12/1...</td>\n",
       "    </tr>\n",
       "    <tr>\n",
       "      <th>99063</th>\n",
       "      <td>Dilma sanciona meta fiscal e governo liberará ...</td>\n",
       "      <td>A presidente Dilma Rousseff sancionou a altera...</td>\n",
       "      <td>2015-03-12</td>\n",
       "      <td>mercado</td>\n",
       "      <td>NaN</td>\n",
       "      <td>http://www1.folha.uol.com.br/mercado/2015/12/1...</td>\n",
       "    </tr>\n",
       "    <tr>\n",
       "      <th>99064</th>\n",
       "      <td>Reportagem da Folha sobre investidor mais jove...</td>\n",
       "      <td>A reportagem da Folha \"Príncipe da Bolsa\", de ...</td>\n",
       "      <td>2015-03-12</td>\n",
       "      <td>mercado</td>\n",
       "      <td>NaN</td>\n",
       "      <td>http://www1.folha.uol.com.br/mercado/2015/12/1...</td>\n",
       "    </tr>\n",
       "    <tr>\n",
       "      <th>99074</th>\n",
       "      <td>Impeachment pode prejudicar ajuste fiscal no B...</td>\n",
       "      <td>A abertura do processo de impeachment da presi...</td>\n",
       "      <td>2015-03-12</td>\n",
       "      <td>mercado</td>\n",
       "      <td>NaN</td>\n",
       "      <td>http://www1.folha.uol.com.br/mercado/2015/12/1...</td>\n",
       "    </tr>\n",
       "    <tr>\n",
       "      <th>99076</th>\n",
       "      <td>Petrobras anuncia 2º reajuste no preço do gás ...</td>\n",
       "      <td>A Petrobras comunicou ao mercado novo reajuste...</td>\n",
       "      <td>2015-03-12</td>\n",
       "      <td>mercado</td>\n",
       "      <td>NaN</td>\n",
       "      <td>http://www1.folha.uol.com.br/mercado/2015/12/1...</td>\n",
       "    </tr>\n",
       "  </tbody>\n",
       "</table>\n",
       "</div>"
      ],
      "text/plain": [
       "                                                   title  \\\n",
       "99055  Prioridade ao pós-pago reduz número de linhas ...   \n",
       "99063  Dilma sanciona meta fiscal e governo liberará ...   \n",
       "99064  Reportagem da Folha sobre investidor mais jove...   \n",
       "99074  Impeachment pode prejudicar ajuste fiscal no B...   \n",
       "99076  Petrobras anuncia 2º reajuste no preço do gás ...   \n",
       "\n",
       "                                                    text       date category  \\\n",
       "99055  O mercado de telefonia celular perdeu 2,09 mil... 2015-03-12  mercado   \n",
       "99063  A presidente Dilma Rousseff sancionou a altera... 2015-03-12  mercado   \n",
       "99064  A reportagem da Folha \"Príncipe da Bolsa\", de ... 2015-03-12  mercado   \n",
       "99074  A abertura do processo de impeachment da presi... 2015-03-12  mercado   \n",
       "99076  A Petrobras comunicou ao mercado novo reajuste... 2015-03-12  mercado   \n",
       "\n",
       "      subcategory                                               link  \n",
       "99055         NaN  http://www1.folha.uol.com.br/mercado/2015/12/1...  \n",
       "99063         NaN  http://www1.folha.uol.com.br/mercado/2015/12/1...  \n",
       "99064         NaN  http://www1.folha.uol.com.br/mercado/2015/12/1...  \n",
       "99074         NaN  http://www1.folha.uol.com.br/mercado/2015/12/1...  \n",
       "99076         NaN  http://www1.folha.uol.com.br/mercado/2015/12/1...  "
      ]
     },
     "execution_count": 8,
     "metadata": {},
     "output_type": "execute_result"
    }
   ],
   "source": [
    "filtered_df.head()"
   ]
  },
  {
   "cell_type": "code",
   "execution_count": 9,
   "metadata": {},
   "outputs": [
    {
     "name": "stdout",
     "output_type": "stream",
     "text": [
      "<class 'pandas.core.frame.DataFrame'>\n",
      "Index: 2111 entries, 99055 to 167025\n",
      "Data columns (total 6 columns):\n",
      " #   Column       Non-Null Count  Dtype         \n",
      "---  ------       --------------  -----         \n",
      " 0   title        2111 non-null   object        \n",
      " 1   text         2111 non-null   object        \n",
      " 2   date         2111 non-null   datetime64[ns]\n",
      " 3   category     2111 non-null   object        \n",
      " 4   subcategory  0 non-null      object        \n",
      " 5   link         2111 non-null   object        \n",
      "dtypes: datetime64[ns](1), object(5)\n",
      "memory usage: 115.4+ KB\n"
     ]
    }
   ],
   "source": [
    "filtered_df.info()"
   ]
  },
  {
   "cell_type": "markdown",
   "metadata": {},
   "source": [
    "# Configuração do NER pipeline"
   ]
  },
  {
   "cell_type": "markdown",
   "metadata": {},
   "source": [
    "Neste trecho de código é configurado a pipeline de NER usando a biblioteca transformers da Hugging Face com o modelo `monilouise/ner_pt_br` que é pré-treinado em português. A utilização dos módulos AutoTokenizer, AutoModelForTokenClassification e pipeline servem para poder carregar o tokenizador compatível com o modelo, carregar o modelo pré-treinado para classificação dos tokens e criar a pipeline de NER.\n",
    "\n",
    "O `aggregation_strategy` foi definido como `max` porque nos testes foi o que teve a melhor eficiência. Com esta estratégia os subtokens são juntos em uma única entidade e considera aquele com maior pontuação de confiança para representar a entidade final."
   ]
  },
  {
   "cell_type": "code",
   "execution_count": 10,
   "metadata": {},
   "outputs": [
    {
     "name": "stderr",
     "output_type": "stream",
     "text": [
      "Some weights of the model checkpoint at monilouise/ner_pt_br were not used when initializing BertForTokenClassification: ['bert.pooler.dense.bias', 'bert.pooler.dense.weight']\n",
      "- This IS expected if you are initializing BertForTokenClassification from the checkpoint of a model trained on another task or with another architecture (e.g. initializing a BertForSequenceClassification model from a BertForPreTraining model).\n",
      "- This IS NOT expected if you are initializing BertForTokenClassification from the checkpoint of a model that you expect to be exactly identical (initializing a BertForSequenceClassification model from a BertForSequenceClassification model).\n",
      "Device set to use mps:0\n"
     ]
    }
   ],
   "source": [
    "from transformers import AutoTokenizer, AutoModelForTokenClassification, pipeline\n",
    "model_name = 'monilouise/ner_pt_br'\n",
    "tokenizer = AutoTokenizer.from_pretrained(model_name)\n",
    "model = AutoModelForTokenClassification.from_pretrained(model_name)\n",
    "ner_pipeline = pipeline(\n",
    "    'ner', \n",
    "    model=model, \n",
    "    tokenizer=tokenizer, \n",
    "    aggregation_strategy=\"max\",\n",
    ")\n"
   ]
  },
  {
   "cell_type": "markdown",
   "metadata": {},
   "source": [
    "# Extração de entidades do tipo Organização"
   ]
  },
  {
   "cell_type": "markdown",
   "metadata": {},
   "source": [
    "Abaixo é realizada a extração de entidades do tipo Organização usando a pipeline de NER que foi configurada acima. \n",
    "\n",
    "`get_entities_from_news_texts`: O modelo é executado em cada um dos textos (das notícias) que existem no dataset onde é extraído todas as entidades de cada texto.\n",
    "`extract_organization_entities_from_news`: Com as entidades extraídas de cada texto, elas são filtradas de tal forma que se obtém somente as entidades do tipo \"ORG\" (Organização) e também são filtrados entidades não relevantes ou duplicadas (como entidades que são uma única palavra, ou entidades que aparecem separadas tipo 'BM &' e 'FBovespa' que representam a mesma entidade na verdade).\n",
    "`normalize_organization_name`: Normaliza o nome da organização, removendo final com aspas simples, ou convertendo nomes para nomes mais apropriados, por exemplo: Sete se refere à empresa Sete Brasil.\n",
    "\n"
   ]
  },
  {
   "cell_type": "code",
   "execution_count": 11,
   "metadata": {},
   "outputs": [],
   "source": [
    "def get_entities_from_news_texts(news_texts: list[str]) -> list[str]:\n",
    "    \"\"\"\n",
    "    Get the entities from the news.\n",
    "    \"\"\"\n",
    "    return [ner_pipeline(text) for text in tqdm(news_texts)]"
   ]
  },
  {
   "cell_type": "code",
   "execution_count": 12,
   "metadata": {},
   "outputs": [],
   "source": [
    "def normalize_organization_name(organization_name: str) -> str:\n",
    "    \"\"\"\n",
    "    Normalize the organization name.\n",
    "    \"\"\"\n",
    "    name = organization_name.strip(\" '\\\"\").replace('\\n', ' ').strip()\n",
    "\n",
    "    merge_map = {\n",
    "        'S &': 'S&P',\n",
    "        'BM &': 'BM&FBovespa',\n",
    "        'Sete': 'Sete Brasil',\n",
    "        'Moody': 'Moody\\'s',\n",
    "    }\n",
    "    return merge_map.get(name, name)"
   ]
  },
  {
   "cell_type": "code",
   "execution_count": 13,
   "metadata": {},
   "outputs": [],
   "source": [
    "def is_valid_organization_name(organization_name: str) -> bool:\n",
    "    \"\"\"\n",
    "    Check if the organization name is valid.\n",
    "    \"\"\"\n",
    "    if (len(organization_name) < 2):\n",
    "        return False\n",
    "    if organization_name.lower() in {'s', 'p', 'fbovespa', 'folha', 'brasil', 'investimentos', 'carros', 'corretora', 'açúcar', 'banco do'}:\n",
    "        return False\n",
    "    return True"
   ]
  },
  {
   "cell_type": "code",
   "execution_count": 14,
   "metadata": {},
   "outputs": [],
   "source": [
    "def extract_organization_entities_from_news(news_entities) -> list[str]:\n",
    "    \"\"\"\n",
    "    Extract only organization entities from news entities.\n",
    "    \"\"\"\n",
    "    entities_list = []\n",
    "    \n",
    "    for entities in news_entities:\n",
    "        for entity in entities:\n",
    "            if entity['entity_group'] == 'ORG' and is_valid_organization_name(entity['word']):\n",
    "                entities_list.append(normalize_organization_name(entity['word']))\n",
    "\n",
    "    return entities_list"
   ]
  },
  {
   "cell_type": "code",
   "execution_count": 15,
   "metadata": {},
   "outputs": [
    {
     "data": {
      "application/vnd.jupyter.widget-view+json": {
       "model_id": "c6c705ce1d4444b3903c8076b9e691a6",
       "version_major": 2,
       "version_minor": 0
      },
      "text/plain": [
       "  0%|          | 0/2111 [00:00<?, ?it/s]"
      ]
     },
     "metadata": {},
     "output_type": "display_data"
    }
   ],
   "source": [
    "news_entities = get_entities_from_news_texts(filtered_df['text'])"
   ]
  },
  {
   "cell_type": "code",
   "execution_count": 16,
   "metadata": {},
   "outputs": [],
   "source": [
    "organizations = extract_organization_entities_from_news(news_entities)"
   ]
  },
  {
   "cell_type": "markdown",
   "metadata": {},
   "source": [
    "# Exibição das principais entidades do tipo Organização"
   ]
  },
  {
   "cell_type": "markdown",
   "metadata": {},
   "source": [
    "Este código define uma função chamada `show_top_organizations` que recebe uma lista de nomes de organizações extraídas de um processo de NER e exibe as organizações mais mencionadas por frequência em formato de gráfico de barras horizontal. Primeiro, ele conta quantas vezes cada organização aparece usando Counter e ordena esses dados em ordem decrescente. Em seguida, cria um DataFrame do Pandas com essas informações e utiliza a biblioteca Seaborn para gerar o gráfico."
   ]
  },
  {
   "cell_type": "code",
   "execution_count": 17,
   "metadata": {},
   "outputs": [],
   "source": [
    "def show_top_organizations(organizations: list[str], number_of_organizations: int = 20) -> None:\n",
    "    \"\"\"\n",
    "    Show the top organizations by frequency.\n",
    "    \"\"\"\n",
    "    organizations_df = pd.DataFrame(sorted(Counter(organizations).items(), key=lambda x: x[1], reverse=True), columns=['Organização', 'Frequência'])\n",
    "\n",
    "    plt.figure(figsize=(12, 6))\n",
    "    ax = sns.barplot(data=organizations_df.head(number_of_organizations), x='Frequência', y='Organização', palette='viridis')\n",
    "\n",
    "    for container in ax.containers:\n",
    "        ax.bar_label(container, fmt='%d', label_type='edge', padding=3)\n",
    "\n",
    "    plt.title(f'Top {number_of_organizations} Organizações mais mencionadas (Seção Mercado - Jan-Mar 2015)')\n",
    "    plt.xlabel('Número de menções')\n",
    "    plt.ylabel('Organização')\n",
    "    plt.tight_layout()\n",
    "    plt.show()\n"
   ]
  },
  {
   "cell_type": "code",
   "execution_count": 18,
   "metadata": {},
   "outputs": [
    {
     "name": "stderr",
     "output_type": "stream",
     "text": [
      "/var/folders/_z/2mdksj291s782py9yt8kqq1r0000gn/T/ipykernel_41072/745446555.py:8: FutureWarning: \n",
      "\n",
      "Passing `palette` without assigning `hue` is deprecated and will be removed in v0.14.0. Assign the `y` variable to `hue` and set `legend=False` for the same effect.\n",
      "\n",
      "  ax = sns.barplot(data=organizations_df.head(number_of_organizations), x='Frequência', y='Organização', palette='viridis')\n"
     ]
    },
    {
     "data": {
      "image/png": "[encoded data removed]",
      "text/plain": [
       "<Figure size 1200x600 with 1 Axes>"
      ]
     },
     "metadata": {},
     "output_type": "display_data"
    }
   ],
   "source": [
    "show_top_organizations(organizations, number_of_organizations=20)"
   ]
  }
 ],
 "metadata": {
  "kernelspec": {
   "display_name": ".venv",
   "language": "python",
   "name": "python3"
  },
  "language_info": {
   "codemirror_mode": {
    "name": "ipython",
    "version": 3
   },
   "file_extension": ".py",
   "mimetype": "text/x-python",
   "name": "python",
   "nbconvert_exporter": "python",
   "pygments_lexer": "ipython3",
   "version": "3.13.0"
  }
 },
 "nbformat": 4,
 "nbformat_minor": 2
}
