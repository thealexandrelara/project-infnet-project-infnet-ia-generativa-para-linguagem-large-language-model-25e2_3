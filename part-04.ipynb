{
 "cells": [
  {
   "cell_type": "markdown",
   "metadata": {},
   "source": [
    "# Parte 4 - Engenharia de Prompts"
   ]
  },
  {
   "cell_type": "markdown",
   "metadata": {},
   "source": [
    "### Questão 4: Analise os seguintes prompts e identifique por que eles poderiam gerar respostas insatisfatórias ou irrelevantes:\n",
    "\n",
    "- Exemplo 1: \"Escreva sobre cachorros.\"\n",
    "- Exemplo 2: \"Explique física.\"\n",
    "\n",
    "Subquestões:\n",
    "\n",
    "Reformule cada prompt utilizando técnicas de engenharia de prompts para torná-los mais específicos e direcionados.\n",
    "Explique as melhorias feitas em cada caso e os motivos por trás das reformulações."
   ]
  },
  {
   "cell_type": "markdown",
   "metadata": {},
   "source": [
    "Ambos os exemplos são muito genéricos, porque a instrução passada é simplesmente muito ampla. \n",
    "\n",
    "Exemplo 1:\n",
    "\n",
    "- No exemplo 1, não se sabe sobre o que deve ser escrito (um artigo? dicas sobre cuidados com cachorros? um poema? uma história?), não foi passado nenhum contexto de forma a definir o público-alvo (uma criança poderia esperar uma resposta diferente de alguém que é formado em medicina veterinária, por exemplo), o formato desejado (um parágrafo? um resumo? uma matéria jornalística?). Tudo isso contribui para trazer uma resposta muito genérica e superficial, que possivelmente não seria muito útil ao usuário.\n",
    "\n",
    "Exemplo 1 - reformulado: \n",
    "\n",
    "```text\n",
    "    Você agora é um veterinário. Sua tarefa é escrever um artigo informativo e envolvente sobre cachorros.\n",
    "\n",
    "    Por favor, siga estas diretrizes para criar um conteúdo abrangente:\n",
    "        1.\tComece o artigo com um fato curioso ou uma história interessante sobre cachorros para captar a atenção do leitor.\n",
    "        2.\tApresente uma visão geral da história dos cães domesticados e sua evolução a partir dos lobos.\n",
    "        3.\tAborde as principais características que tornam os cães companheiros únicos, como lealdade, inteligência e comportamentos diversos.\n",
    "        4.\tDestaque os vários papéis que os cães desempenham na sociedade, incluindo cães de serviço, cães de terapia e animais de estimação.\n",
    "        5.\tExplore a diversidade de raças de cães, mencionando algumas raças populares e suas características ou finalidades específicas.\n",
    "        6.\tConclua com conselhos ou dicas para futuros tutores sobre como escolher a raça ideal e cuidar de um cachorro.\n",
    "\n",
    "    Este artigo deve ser acessível ao público em geral, inclusive para aqueles que estão pensando em adotar um cachorro.\n",
    "```\n",
    "\n",
    "Exemplo 2:\n",
    "\n",
    "- No exemplo 2, também vemos um prompt extremamente amplo. Também carecendo de informações sobre o público alvo, escopo, a forma que deve ser apresentado a explicação, etc.\n",
    "\n",
    "Exemplo 2 - reformulado: \n",
    "\n",
    "```text\n",
    "    Sua tarefa é escrever uma explicação clara e concisa sobre física para o público em geral.\n",
    "\n",
    "    Por favor, siga as diretrizes abaixo para garantir que a explicação seja acessível e empolgante:\n",
    "\t1.\tComece com uma definição breve de física, explicando-a como uma ciência fundamental que estuda a matéria, a energia e as forças que regem o universo.\n",
    "\t2.\tDestaque as principais áreas da física, incluindo mecânica clássica, termodinâmica, eletromagnetismo, mecânica quântica e relatividade.\n",
    "\t3.\tForneça exemplos que ilustrem como os princípios da física se manifestam no cotidiano, como a gravidade, o movimento e a eletricidade.\n",
    "\t4.\tUtilize uma linguagem simples e analogias para tornar conceitos complexos mais compreensíveis e relacionáveis.\n",
    "\t5.\tConclua com a importância da física para os avanços tecnológicos e seu papel na resolução de desafios globais.\n",
    "\n",
    "    A explicação deve ser estruturada de forma a construir o conhecimento progressivamente, tornando o conteúdo adequado para leitores com pouca ou nenhuma experiência prévia em física.\n",
    "```\n",
    "\n"
   ]
  },
  {
   "cell_type": "markdown",
   "metadata": {},
   "source": [
    "--------------------------\n",
    "\n",
    "### Questão 5: O prompt \"Descreva a história da internet.\" foi mal formulado. Aplique técnicas de engenharia de prompts para melhorá-lo. Reformule o prompt para melhorar a especificidade e a qualidade da resposta. Justifique as mudanças feitas e explique como elas contribuem para obter uma resposta mais eficaz e relevante.\n",
    "\n"
   ]
  },
  {
   "cell_type": "markdown",
   "metadata": {},
   "source": [
    "Você é um historiador especializado em tecnologia e redes digitais, com vasta experiência em comunicação clara para jovens. Gere 10 fatos sobre a história da internet e crie um post de blog usando esta informação. Antes de responder, pense nas perguntas que você precisa considerar para explicar bem esse tema de forma concisa e acessível para estudantes do ensino médio. Depois, escreva sua resposta. \n",
    "\n",
    "Melhorias:\n",
    "- Meta-prompt: Foi atribuído uma persona para ajudar o modelo a adotar um estilo, tom e postura adequada ao papel.\n",
    "- Generated Knowledge: Foi solicitado a geração de 10 fatos e a criação de um post de blog usando a informação obtida o que ajuda a LLM a escrever uma espécie de post para um blog bem informativo.\n",
    "- Self-Ask: Antes da resposta é solicitado a LLM para pensar em possíveis perguntas dos estudantes, isso ajuda a LLM a identificar possíveis \"falhas\" ou \"faltas\" de conteúdo na explicação e preencher com informações relevantes.\n",
    "- Especificação de público-alvo: O fato de ter adicionado a instrução de que deve explicar para estudantes do ensino médio, ajuda o modelo a determinar a complexidade e o vocabulário que ele deve utilizar."
   ]
  },
  {
   "cell_type": "markdown",
   "metadata": {},
   "source": [
    "------------------\n",
    "\n",
    "### Questão 6: Aplique a técnica de Chain of Thought (CoT) para melhorar o prompt \"Explique como funciona a energia solar.\", detalhando o raciocínio necessário para que o modelo forneça uma resposta completa e coerente. Explique como a aplicação da técnica CoT melhora a resposta do modelo."
   ]
  },
  {
   "cell_type": "markdown",
   "metadata": {},
   "source": [
    "Explique passo a passo como funciona a energia solar, começando com a origem da energia no Sol. Em seguida, descreva como a luz solar chega à Terra, como os painéis solares captam essa luz, como a energia é convertida em eletricidade por células fotovoltaicas, e como essa eletricidade pode ser usada ou armazenada."
   ]
  },
  {
   "cell_type": "markdown",
   "metadata": {
    "vscode": {
     "languageId": "plaintext"
    }
   },
   "source": [
    "A alteração que foi realizada solitica que o modelo de LLM explique passo a passo como funciona a energia solar, além disso, foram inclusos exemplos de passo a passo: a origem da energia, o deslocamento da luz até à Terra, a captação por meio de painéis, a conversão de energia e o uso e armazenamento. O CoT nesse caso melhora a resposta do modelo porque estrutura o raciocíneo em etapas claras e lógicas, evitando lacunas e direcionando o resultado, quando é solicitado para pensar passo a passo, o modelo vai buscar seguir essa abordagem e isso acaba trazendo mais completude e coerência nas respostas."
   ]
  }
 ],
 "metadata": {
  "language_info": {
   "name": "python"
  }
 },
 "nbformat": 4,
 "nbformat_minor": 2
}
