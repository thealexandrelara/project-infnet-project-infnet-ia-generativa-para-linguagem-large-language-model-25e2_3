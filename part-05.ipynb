{
 "cells": [
  {
   "cell_type": "markdown",
   "metadata": {},
   "source": [
    "# Parte 05 - Projeto Prático com Streamlit, LLM e LangChain\n",
    "Questão 7: Escolha uma aplicação para desenvolver utilizando Streamlit, LLM e LangChain. Crie um aplicativo interativo que demonstre o uso de LLMs para resolver um problema específico.\n",
    "\n",
    "Exemplos de Aplicação:\n",
    "\n",
    "1. Sumarizador de Artigos:\n",
    "  - Desenvolva um aplicativo que permita ao usuário inserir o texto de um artigo e obter um resumo conciso do conteúdo.\n",
    "2. Sistema de Perguntas e Respostas:\n",
    "  - Crie um sistema que permita ao usuário fazer perguntas sobre um tópico específico e receba respostas precisas e relevantes.\n",
    "3. Agente de Viagem:\n",
    "  - Desenvolva um agente virtual que possa ajudar usuários a planejar suas viagens, fornecendo informações sobre destinos, itinerários, e dicas de viagem.\n",
    "4. App de Auxílio em Aprendizagem:\n",
    "  - Crie um aplicativo que auxilie estudantes a aprender um novo assunto, fornecendo explicações, exemplos e quizzes interativos.\n",
    "\n"
   ]
  },
  {
   "cell_type": "markdown",
   "metadata": {},
   "source": [
    "## Subquestões:"
   ]
  },
  {
   "cell_type": "markdown",
   "metadata": {},
   "source": [
    "### 1. Descreva a aplicação escolhida e os objetivos principais do projeto."
   ]
  },
  {
   "cell_type": "markdown",
   "metadata": {},
   "source": [
    "A aplicação escolhida é o Wedding Song Checker, uma ferramenta desenvolvida com Streamlit, LLMs e LangChain que ajuda casais e organizadores de eventos a verificarem se determinadas músicas são apropriadas para serem tocadas em cerimônias de casamento.\n",
    "\n",
    "O principal objetivo do projeto é avaliar automaticamente o conteúdo das letras das músicas, identificando elementos que possam ser inadequados para a ocasião, como linguagem explícita, conotações sexuais, violência, infidelidade, tristeza ou qualquer temática que contradiga o espírito de amor, união e celebração do evento.\n",
    "\n",
    "A aplicação recebe como entrada o nome da música e o artista, busca a letra e, com o auxílio de uma LLM, analisa e retorna ao usuário uma resposta indicando se a música é apropriada, junto com uma justificativa."
   ]
  },
  {
   "cell_type": "markdown",
   "metadata": {
    "vscode": {
     "languageId": "plaintext"
    }
   },
   "source": [
    "### 2. Explique a arquitetura do aplicativo, incluindo como o Streamlit, LLM e LangChain são utilizados."
   ]
  },
  {
   "cell_type": "markdown",
   "metadata": {},
   "source": [
    "A arquitetura do aplicativo integra uma interface web com inteligência artificial, utilizando Streamlit, LangChain, LLMs (Large Language Models) e a API da Genius.\n",
    "\n",
    "1. Interface do usuário – Streamlit:\n",
    "O frontend da aplicação é desenvolvido com Streamlit, permitindo que o usuário insira o nome da música e o artista, envie a requisição e visualize a resposta diretamente na página definindo se a música escolhida é ou não apropriada para ser usada em casamentos.\n",
    "\n",
    "2. Coordenação da lógica – LangChain:\n",
    "A lógica da aplicação é organizada por meio da biblioteca LangChain, que facilita o processo de criação de agentes inteligentes. O objetivo do agente criado é o de avaliar se determinada música é apropriada ou não para fazer parte de uma playlist de casamento. Para isso, ele despõe de tools para buscar a letra da música (usando a api do site Genius.com) e para verificar se a letra da música já foi encontrada, caso tenha sido encontrada, o agente avalia e define se a música é ou não adequada para um casamento. É utilizado um modelo de linguagem de OpenAI que avalia critérios como linguagem explícita, violência, infidelidade, tom negativo ou incompatível com o espírito de celebração.\n",
    "\n",
    "3. Análise semântica com LLM:\n",
    "O modelo de LLM é responsável por interpretar o conteúdo da letra analisando o contexto em que ela será ouvida. Ele retorna uma avaliação/recomendação, dizendo se a música é apropriada ou não, e fornece uma justificativa que explica o porquê da decisão."
   ]
  },
  {
   "cell_type": "markdown",
   "metadata": {},
   "source": [
    "### 3. Implemente o aplicativo e forneça o código-fonte, junto com instruções para execução."
   ]
  },
  {
   "cell_type": "markdown",
   "metadata": {},
   "source": [
    "O código se encontra na pasta `part-05` deste projeto. Na pasta em questão, também pode-se acessar o README que ensina a configurar e executar o projeto."
   ]
  },
  {
   "cell_type": "markdown",
   "metadata": {},
   "source": [
    "### 4. Apresente evidências e exemplos de uso do aplicativo e discuta os resultados obtidos."
   ]
  },
  {
   "cell_type": "markdown",
   "metadata": {},
   "source": [
    "Interface da aplicação"
   ]
  },
  {
   "cell_type": "markdown",
   "metadata": {},
   "source": []
  }
 ],
 "metadata": {
  "language_info": {
   "name": "python"
  }
 },
 "nbformat": 4,
 "nbformat_minor": 2
}
